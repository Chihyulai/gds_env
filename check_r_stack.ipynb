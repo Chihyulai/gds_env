{
 "cells": [
  {
   "cell_type": "code",
   "execution_count": 1,
   "metadata": {},
   "outputs": [],
   "source": [
    "library(JuniperKernel)"
   ]
  },
  {
   "cell_type": "code",
   "execution_count": 2,
   "metadata": {},
   "outputs": [
    {
     "name": "stderr",
     "output_type": "stream",
     "text": [
      "Error in get(name, envir = asNamespace(pkg), inherits = FALSE): object 'slider' not found\n",
      "\n",
      "\n"
     ]
    }
   ],
   "source": [
    "s = JuniperKernel:::slider()"
   ]
  },
  {
   "cell_type": "code",
   "execution_count": 3,
   "metadata": {},
   "outputs": [
    {
     "name": "stderr",
     "output_type": "stream",
     "text": [
      "Linking to GEOS 3.5.1, GDAL 2.1.2, proj.4 4.9.3\n"
     ]
    }
   ],
   "source": [
    "library(sf)"
   ]
  },
  {
   "cell_type": "code",
   "execution_count": 5,
   "metadata": {},
   "outputs": [
    {
     "name": "stdout",
     "output_type": "stream",
     "text": [
      "Reading layer `columbus' from data source `/opt/conda/envs/gds/lib/python3.6/site-packages/pysal/examples/columbus/columbus.shp' using driver `ESRI Shapefile'\n",
      "Simple feature collection with 49 features and 20 fields\n",
      "geometry type:  POLYGON\n",
      "dimension:      XY\n",
      "bbox:           xmin: 5.874907 ymin: 10.78863 xmax: 11.28742 ymax: 14.74245\n",
      "epsg (SRID):    NA\n",
      "proj4string:    NA\n"
     ]
    }
   ],
   "source": [
    "db <- st_read('/opt/conda/envs/gds/lib/python3.6/site-packages/pysal/examples/columbus/columbus.shp')"
   ]
  },
  {
   "cell_type": "code",
   "execution_count": 9,
   "metadata": {},
   "outputs": [
    {
     "data": {
      "text/html": [
       "<ol class=list-inline>\n",
       "\t<li>'AREA'</li>\n",
       "\t<li>'PERIMETER'</li>\n",
       "\t<li>'COLUMBUS_'</li>\n",
       "\t<li>'COLUMBUS_I'</li>\n",
       "\t<li>'POLYID'</li>\n",
       "\t<li>'NEIG'</li>\n",
       "\t<li>'HOVAL'</li>\n",
       "\t<li>'INC'</li>\n",
       "\t<li>'CRIME'</li>\n",
       "\t<li>'OPEN'</li>\n",
       "\t<li>'PLUMB'</li>\n",
       "\t<li>'DISCBD'</li>\n",
       "\t<li>'X'</li>\n",
       "\t<li>'Y'</li>\n",
       "\t<li>'NSA'</li>\n",
       "\t<li>'NSB'</li>\n",
       "\t<li>'EW'</li>\n",
       "\t<li>'CP'</li>\n",
       "\t<li>'THOUS'</li>\n",
       "\t<li>'NEIGNO'</li>\n",
       "\t<li>'geometry'</li>\n",
       "</ol>\n"
      ],
      "text/latex": [
       "\\begin{enumerate*}\n",
       "\\item 'AREA'\n",
       "\\item 'PERIMETER'\n",
       "\\item 'COLUMBUS\\_'\n",
       "\\item 'COLUMBUS\\_I'\n",
       "\\item 'POLYID'\n",
       "\\item 'NEIG'\n",
       "\\item 'HOVAL'\n",
       "\\item 'INC'\n",
       "\\item 'CRIME'\n",
       "\\item 'OPEN'\n",
       "\\item 'PLUMB'\n",
       "\\item 'DISCBD'\n",
       "\\item 'X'\n",
       "\\item 'Y'\n",
       "\\item 'NSA'\n",
       "\\item 'NSB'\n",
       "\\item 'EW'\n",
       "\\item 'CP'\n",
       "\\item 'THOUS'\n",
       "\\item 'NEIGNO'\n",
       "\\item 'geometry'\n",
       "\\end{enumerate*}\n"
      ],
      "text/markdown": [
       "1. 'AREA'\n",
       "2. 'PERIMETER'\n",
       "3. 'COLUMBUS_'\n",
       "4. 'COLUMBUS_I'\n",
       "5. 'POLYID'\n",
       "6. 'NEIG'\n",
       "7. 'HOVAL'\n",
       "8. 'INC'\n",
       "9. 'CRIME'\n",
       "10. 'OPEN'\n",
       "11. 'PLUMB'\n",
       "12. 'DISCBD'\n",
       "13. 'X'\n",
       "14. 'Y'\n",
       "15. 'NSA'\n",
       "16. 'NSB'\n",
       "17. 'EW'\n",
       "18. 'CP'\n",
       "19. 'THOUS'\n",
       "20. 'NEIGNO'\n",
       "21. 'geometry'\n",
       "\n",
       "\n"
      ],
      "text/plain": [
       " [1] \"AREA\"       \"PERIMETER\"  \"COLUMBUS_\"  \"COLUMBUS_I\" \"POLYID\"    \n",
       " [6] \"NEIG\"       \"HOVAL\"      \"INC\"        \"CRIME\"      \"OPEN\"      \n",
       "[11] \"PLUMB\"      \"DISCBD\"     \"X\"          \"Y\"          \"NSA\"       \n",
       "[16] \"NSB\"        \"EW\"         \"CP\"         \"THOUS\"      \"NEIGNO\"    \n",
       "[21] \"geometry\"  "
      ]
     },
     "execution_count": 9,
     "metadata": {
      "__ignored__": ""
     },
     "output_type": "execute_result"
    }
   ],
   "source": [
    "names(db)"
   ]
  },
  {
   "cell_type": "code",
   "execution_count": 10,
   "metadata": {},
   "outputs": [],
   "source": [
    "plot(db$INC, db$HOVAL)"
   ]
  }
 ],
 "metadata": {
  "kernelspec": {
   "display_name": "R 3.4.3 (Juniper)",
   "language": "R",
   "name": "juniper_r3.4.3"
  },
  "language_info": {
   "codemirror_mode": "r",
   "file_extension": ".R",
   "mimetype": "text/x-r-source",
   "name": "R",
   "pygments_lexer": "r",
   "version": "3.4.3"
  }
 },
 "nbformat": 4,
 "nbformat_minor": 2
}
